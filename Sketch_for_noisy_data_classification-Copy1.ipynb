{
 "cells": [
  {
   "cell_type": "code",
   "execution_count": 2,
   "metadata": {},
   "outputs": [],
   "source": [
    "import numpy as np\n",
    "import numpy.linalg as LA\n",
    "from sklearn.utils import murmurhash3_32\n",
    "from random import randint\n",
    "import matplotlib.pyplot as plt\n",
    "import stats\n",
    "import copy\n",
    "import time\n",
    "import multiprocessing\n",
    "from Functions import *\n",
    "from scipy.special import factorial\n",
    "import math\n",
    "from scipy.stats import poisson\n",
    "from scipy.stats import norm\n",
    "from scipy.stats import binom\n",
    "from scipy.integrate import quad\n",
    "from scipy.stats import multivariate_normal\n",
    "from scipy.stats import mvn\n",
    "from scipy.optimize import fsolve"
   ]
  },
  {
   "cell_type": "code",
   "execution_count": 3,
   "metadata": {},
   "outputs": [],
   "source": [
    "def hashfunc(m):\n",
    "    ss = randint(1, 99999999)\n",
    "    def hash_m(x):\n",
    "        return murmurhash3_32(x,seed=ss)%m\n",
    "    return hash_m\n",
    "\n",
    "\n",
    "class count_sketch():\n",
    "    def __init__(self, n, k):\n",
    "        self.n = n\n",
    "        self.k = k\n",
    "        self.table = np.zeros((n,k))\n",
    "        self.hash_func = [hashfunc(n) for i in range(int(k))]\n",
    "        self.sign_hash = [hashfunc(2) for i in range(int(k))]\n",
    "        self.item_count = 0\n",
    "        \n",
    "    def insert(self, item, index):\n",
    "        loc = np.array([self.hash_func[k](index) for k in range(self.k)])\n",
    "        sign = np.array([(-1)**(self.sign_hash[k](index)) for k in range(self.k)])\n",
    "        self.table[loc,np.arange(self.k)] += item * sign\n",
    "        self.item_count += 1\n",
    "        \n",
    "    def insert_ID_list(self, item, index):\n",
    "        index = index.reshape((len(index), 1))\n",
    "        loc_array = np.apply_along_axis(lambda x: [Hash(x[0]) for Hash in sketch.hash_func], 1, index)\n",
    "        sign_array = np.apply_along_axis(lambda x: [(-1)**Hash(x[0]) for Hash in sketch.sign_hash], 1, index)\n",
    "        for i in range(loc_array.shape[0]):      \n",
    "            self.table[loc_array[i],np.arange(self.k)] += item[i] * sign_array[i]\n",
    "        \n",
    "    def retrieve(self, index):\n",
    "        loc = np.array([self.hash_func[k](index) for k in range(self.k)])\n",
    "        sign = np.array([(-1)**(self.sign_hash[k](index)) for k in range(self.k)])\n",
    "        items = self.table[loc,np.arange(self.k)]*sign\n",
    "        return np.median(items)\n",
    "    \n",
    "    def retrieve_ID_list(self, index):\n",
    "        index = index.reshape((len(index), 1))\n",
    "        loc_array = np.apply_along_axis(lambda x: [Hash(x[0]) for Hash in sketch.hash_func], 1, index)\n",
    "        sign_array = np.apply_along_axis(lambda x: [(-1)**Hash(x[0]) for Hash in sketch.sign_hash], 1, index)\n",
    "        item_array = self.table[loc_array.flatten(), np.tile(np.arange(self.k), loc_array.shape[0])]\n",
    "        item_array = item_array.reshape(loc_array.shape) * sign_array\n",
    "        return np.median(item_array, axis = 1)\n",
    "    \n",
    "    def retrieve_item_list(self, index, VAR = False):\n",
    "        loc = np.array([self.hash_func[k](index) for k in range(self.k)])\n",
    "        sign = np.array([(-1)**(self.sign_hash[k](index)) for k in range(self.k)])\n",
    "        items = self.table[loc,np.arange(self.k)]*sign\n",
    "        if VAR:\n",
    "            item_var = np.var(np.sort(item_list)[3:(self.k-3)])\n",
    "            return items, item_var\n",
    "        else:\n",
    "            return items\n",
    "\n",
    "    \n",
    "    def clean():\n",
    "        self.table = np.zeros((n,k))\n",
    "        self.item_count = 0\n",
    "        \n",
    "        \n",
    "        \n",
    "def parallel_apply_along_axis(func1d, axis, arr):\n",
    "    \"\"\"\n",
    "    Like numpy.apply_along_axis(), but takes advantage of multiple\n",
    "    cores.\n",
    "    \"\"\"        \n",
    "    # Effective axis where apply_along_axis() will be applied by each\n",
    "    # worker (any non-zero axis number would work, so as to allow the use\n",
    "    # of `np.array_split()`, which is only done on axis 0):\n",
    "    effective_axis = 1 if axis == 0 else axis\n",
    "    if effective_axis != axis:\n",
    "        arr = arr.swapaxes(axis, effective_axis)\n",
    "\n",
    "    # Chunks for the mapping (only a few chunks):\n",
    "    chunks = [(func1d, effective_axis, sub_arr)\n",
    "              for sub_arr in np.array_split(arr, multiprocessing.cpu_count())]\n",
    "\n",
    "    pool = multiprocessing.Pool()\n",
    "    individual_results = pool.map(unpacking_apply_along_axis, chunks)\n",
    "    # Freeing the workers:\n",
    "    pool.close()\n",
    "    pool.join()\n",
    "\n",
    "    return np.concatenate(individual_results)\n",
    "\n"
   ]
  },
  {
   "cell_type": "markdown",
   "metadata": {},
   "source": [
    "## Simulate data with large noise"
   ]
  },
  {
   "cell_type": "code",
   "execution_count": 4,
   "metadata": {},
   "outputs": [],
   "source": [
    "p = 10**5\n",
    "n = 1000\n",
    "signal = 1\n",
    "num_signal = int(0.001*p)\n",
    "\n",
    "mu = np.zeros(p)\n",
    "mu[0:num_signal] = signal\n",
    "\n",
    "sigma_1 = 3\n",
    "sigma_2 = 3\n",
    "\n",
    "x1 = np.random.normal(0, sigma_1, (n*(p-num_signal)))\n",
    "x1 = x1.reshape((n,(p-num_signal)))\n",
    "\n",
    "x2 = np.random.normal(0, sigma_2, (n*num_signal))\n",
    "x2 = x2.reshape((n,num_signal))\n",
    "\n",
    "x = np.concatenate((x2, x1), axis = 1)\n",
    "\n",
    "def my_func(a, mu = mu):\n",
    "    return a + mu\n",
    "\n",
    "x = np.apply_along_axis(my_func, 1, x)\n",
    "\n",
    "ID = [id(a) for a in range(p)]\n",
    "ID = np.array([str(x) for x in ID])"
   ]
  },
  {
   "cell_type": "markdown",
   "metadata": {},
   "source": [
    "## Apply CMS to select the heavy hitters"
   ]
  },
  {
   "cell_type": "code",
   "execution_count": 18,
   "metadata": {},
   "outputs": [
    {
     "name": "stdout",
     "output_type": "stream",
     "text": [
      "500\n",
      "0.12 50922 3\n",
      "0.123 54377 3\n",
      "0.126 56675 3\n",
      "0.129 58705 3\n",
      "0.132 60326 3\n",
      "0.135 61604 2\n",
      "0.138 62995 4\n",
      "0.141 64230 4\n",
      "0.144 65379 5\n",
      "0.147 66599 4\n",
      "600\n",
      "0.15 67498 4\n",
      "0.153 68454 4\n",
      "0.156 69326 4\n",
      "0.159 70316 4\n",
      "0.162 71228 4\n",
      "0.165 72013 4\n",
      "0.168 72920 4\n",
      "0.171 73695 4\n",
      "0.174 74514 4\n",
      "0.177 75222 5\n",
      "700\n",
      "0.18 75959 5\n",
      "0.183 76513 5\n",
      "0.186 77101 5\n",
      "0.189 77755 4\n",
      "0.192 78383 4\n",
      "0.195 78918 4\n",
      "0.198 79538 4\n",
      "0.201 80260 4\n",
      "0.204 80729 4\n",
      "0.207 81322 4\n",
      "800\n",
      "0.21 81710 4\n",
      "0.213 82301 4\n",
      "0.216 82741 4\n",
      "0.219 83079 4\n",
      "0.222 83505 4\n",
      "0.225 83972 4\n",
      "0.228 84324 4\n",
      "0.231 84629 4\n",
      "0.234 85191 4\n",
      "0.237 85600 4\n",
      "900\n",
      "0.24 85978 4\n",
      "0.243 86323 4\n",
      "0.246 86619 4\n",
      "0.249 87045 4\n",
      "0.252 87415 4\n",
      "0.255 87738 4\n",
      "0.258 88086 4\n",
      "0.261 88496 4\n",
      "0.264 88721 4\n",
      "0.267 89083 4\n",
      "1000\n",
      "0.27 89295 4\n"
     ]
    }
   ],
   "source": [
    "block_end = list(np.arange(500, n, 1)) + [n]\n",
    "block_start = [0] + block_end[:-1]\n",
    "halflife = 200\n",
    "\n",
    "\n",
    "sketch = count_sketch(int(p/20), 5)\n",
    "sketch.clean\n",
    "\n",
    "median_list = []\n",
    "\n",
    "N = 1000\n",
    "\n",
    "for i, (start, end) in enumerate(zip(block_start, block_end)):\n",
    "    x_batch = x[start:end,:]\n",
    "    mean_batch = np.apply_along_axis(np.sum, 0, x_batch)/N\n",
    "    \n",
    "    ## Filtering\n",
    "    if (i > 0):\n",
    "        mean_batch = mean_batch[index_retain]\n",
    "        ID_retain = np.array(ID)[index_retain]     \n",
    "    else:\n",
    "        index_retain = (np.ones(len(ID))>0)\n",
    "        ID_retain = ID\n",
    "    \n",
    "    # ID_retain = ID\n",
    "    \n",
    "    sketch.insert_ID_list(mean_batch, ID_retain)\n",
    "    \n",
    "    ## Retrieve\n",
    "    mean_2 = sketch.retrieve_ID_list(ID)\n",
    "        \n",
    "    mean_prod_2 = []\n",
    "    for mem_id in ID:\n",
    "        item_list = np.sort(sketch.retrieve_item_list(mem_id))\n",
    "        mean_prod_2 += [np.prod(item_list[1:(sketch.k-1)])]\n",
    "\n",
    "    \n",
    "    # thres_ratio = 0.5*2**(-(end - block_end[0])/halflife)\n",
    "    \n",
    "    # thres_ratio = 0.5\n",
    "    # median_entry = np.quantile(np.abs(mean_2), 1 - thres_ratio)\n",
    "\n",
    "    median_entry = 0.12 + 0.3*i/N\n",
    "        \n",
    "    median_list += [median_entry]\n",
    "    index_retain = (np.abs(mean_2) > median_entry)\n",
    "\n",
    "    \n",
    "    if (end > 400) and (end % 100 == 0):\n",
    "        print(end)\n",
    "        \n",
    "    # print(median_entry, num_signal-np.sum(index_retain[0:num_signal]))\n",
    "    \n",
    "    if (end > 400) and (end % 10 == 0):\n",
    "        print(round(median_entry, 5), p-num_signal-np.sum(index_retain[num_signal:]), num_signal-np.sum(index_retain[0:num_signal]))\n",
    "\n"
   ]
  },
  {
   "cell_type": "code",
   "execution_count": 5,
   "metadata": {},
   "outputs": [],
   "source": [
    "# bins = np.linspace(-1, 1.5, 50)\n",
    "# plt.hist(mean_2[num_signal:], alpha = 0.5, bins = bins)\n",
    "# plt.hist(mean_2[0:num_signal], alpha = 0.5, bins = bins)\n",
    "# # plt.yscale('log')\n",
    "# plt.show()\n",
    "\n",
    "# thres = np.linspace(0.6, 1, 100)\n",
    "# plt.plot(thres, [np.sum(np.abs(mean_2[num_signal:])>a) for a in thres])\n",
    "# plt.title('Tail Probability of Noise Arms')\n",
    "# plt.show()"
   ]
  },
  {
   "cell_type": "code",
   "execution_count": 6,
   "metadata": {},
   "outputs": [],
   "source": [
    "# plt.hist(mean_2[num_signal:], bins=50)\n",
    "# plt.title('Distribution of Noise Arms (Without Sampling)')\n",
    "# plt.savefig('./Figures/Distribution of Noise Arms (Without Sampling).png')\n",
    "# plt.show()"
   ]
  },
  {
   "cell_type": "code",
   "execution_count": 7,
   "metadata": {},
   "outputs": [],
   "source": [
    "# plt.hist(mean_2[num_signal:], bins=50)\n",
    "# plt.title('Distribution of Noise Arms (With Sampling)')\n",
    "# plt.savefig('./Figures/Distribution of Noise Arms (With Sampling).png')\n",
    "# plt.show()"
   ]
  },
  {
   "cell_type": "code",
   "execution_count": 19,
   "metadata": {},
   "outputs": [
    {
     "name": "stdout",
     "output_type": "stream",
     "text": [
      "Best F1 Score:  0.75\n"
     ]
    },
    {
     "data": {
      "image/png": "[encoded data removed]",
      "text/plain": [
       "<Figure size 432x288 with 1 Axes>"
      ]
     },
     "metadata": {
      "needs_background": "light"
     },
     "output_type": "display_data"
    }
   ],
   "source": [
    "F1_score = []\n",
    "precision_list = []\n",
    "recall_list = [] \n",
    "\n",
    "\n",
    "threshold_list = np.arange(0.2, 1.2, 0.01)\n",
    "\n",
    "# threshold_list = np.arange(0.1, 1, 0.01)\n",
    "for thres in threshold_list:\n",
    "    positive_index = (np.abs(mu)>0)\n",
    "    predict_positive_index = (np.abs(mean_2)>thres)\n",
    "    fn = np.sum(positive_index*(1-predict_positive_index))\n",
    "    tp = np.sum(predict_positive_index*positive_index)\n",
    "    \n",
    "    precision = tp/np.sum(predict_positive_index)\n",
    "    recall = tp/(tp+fn)\n",
    "    \n",
    "    ## Deviation from the true covariance matrix\n",
    "    F1_score += [2*precision*recall/(precision+recall)]\n",
    "    precision_list += [precision]\n",
    "    recall_list += [recall]\n",
    "    \n",
    "    \n",
    "print('Best F1 Score: ', np.max(F1_score))\n",
    "\n",
    "plt.plot(threshold_list, F1_score)\n",
    "plt.show()\n",
    "\n",
    "# plt.plot(threshold_list, precision_list)\n",
    "# plt.show()\n",
    "\n",
    "# plt.plot(threshold_list, recall_list)\n",
    "# plt.show()\n",
    "\n",
    "# plt.plot(1 - np.array(precision_list), np.array(recall_list))\n",
    "# plt.xlabel('1 - Precision')\n",
    "# plt.ylabel('Recall')\n",
    "# plt.show()"
   ]
  },
  {
   "cell_type": "code",
   "execution_count": 22,
   "metadata": {},
   "outputs": [
    {
     "name": "stdout",
     "output_type": "stream",
     "text": [
      "Best F1 Score:  0.8125\n"
     ]
    },
    {
     "data": {
      "image/png": "[encoded data removed]",
      "text/plain": [
       "<Figure size 432x288 with 1 Axes>"
      ]
     },
     "metadata": {
      "needs_background": "light"
     },
     "output_type": "display_data"
    }
   ],
   "source": [
    "F1_score_3 = []\n",
    "precision_list_3 = []\n",
    "recall_list_3 = [] \n",
    "\n",
    "\n",
    "mean_prod_2 = []\n",
    "mean_sum_2 = []\n",
    "\n",
    "for mem_id in ID:\n",
    "    item_list = np.sort(sketch.retrieve_item_list(mem_id))\n",
    "    mean_prod_2 += [np.prod(item_list[1:(sketch.k-1)])]\n",
    "    mean_sum_2 += [np.mean(item_list[1:(sketch.k-1)])]\n",
    "    \n",
    "threshold_list = np.arange(0.1, 1.2, 0.01)\n",
    "\n",
    "# threshold_list = np.arange(0.1, 1, 0.01)\n",
    "for thres in threshold_list:\n",
    "    positive_index = (np.abs(mu)>0)\n",
    "    # predict_positive_index = (np.abs(mean_prod_2)>thres)\n",
    "    predict_positive_index = (np.abs(mean_prod_2)>thres)\n",
    "    fn = np.sum(positive_index*(1-predict_positive_index))\n",
    "    tp = np.sum(predict_positive_index*positive_index)\n",
    "    \n",
    "    precision = tp/np.sum(predict_positive_index)\n",
    "    recall = tp/(tp+fn)\n",
    "    \n",
    "    ## Deviation from the true covariance matrix\n",
    "    F1_score_3 += [2*precision*recall/(precision+recall)]\n",
    "    precision_list_3 += [precision]\n",
    "    recall_list_3 += [recall]\n",
    "    \n",
    "    \n",
    "print('Best F1 Score: ', np.max(F1_score_3))\n",
    "\n",
    "plt.plot(threshold_list, F1_score_3)\n",
    "plt.show()\n",
    "\n",
    "# plt.plot(threshold_list, precision_list_3)\n",
    "# plt.show()\n",
    "\n",
    "# plt.plot(threshold_list, recall_list_3)\n",
    "# plt.show()\n",
    "\n",
    "# plt.plot(1 - np.array(precision_list_3), np.array(recall_list_3))\n",
    "# plt.xlabel('1 - Precision')\n",
    "# plt.ylabel('Recall')\n",
    "# plt.show()"
   ]
  },
  {
   "cell_type": "markdown",
   "metadata": {},
   "source": [
    "## Apply traditional CMS to select the heavy hitters"
   ]
  },
  {
   "cell_type": "code",
   "execution_count": 23,
   "metadata": {},
   "outputs": [],
   "source": [
    "p = 10**5\n",
    "n = 1000\n",
    "signal = 1\n",
    "num_signal = int(0.001*p)\n",
    "\n",
    "mu = np.zeros(p)\n",
    "# mu[0:num_signal] = np.random.uniform(1, 1.5, num_signal)\n",
    "mu[0:num_signal] = np.random.uniform(signal-0.5, signal+0.5, num_signal)\n",
    "\n",
    "sigma_1 = 3\n",
    "sigma_2 = 3\n",
    "\n",
    "x1 = np.random.normal(0, sigma_1, (n*(p-num_signal)))\n",
    "x1 = x1.reshape((n,(p-num_signal)))\n",
    "\n",
    "x2 = np.random.normal(0, sigma_2, (n*num_signal))\n",
    "x2 = x2.reshape((n,num_signal))\n",
    "\n",
    "x = np.concatenate((x2, x1), axis = 1)\n",
    "\n",
    "def my_func(a, mu = mu):\n",
    "    return a + mu\n",
    "\n",
    "x = np.apply_along_axis(my_func, 1, x)\n",
    "\n",
    "ID = [id(a) for a in range(p)]\n",
    "ID = np.array([str(x) for x in ID])"
   ]
  },
  {
   "cell_type": "code",
   "execution_count": 24,
   "metadata": {},
   "outputs": [
    {
     "name": "stdout",
     "output_type": "stream",
     "text": [
      "(5000, 5)\n"
     ]
    }
   ],
   "source": [
    "sketch = count_sketch(int(p/20), 5)\n",
    "print(sketch.table.shape)\n",
    "\n",
    "sketch.clean\n",
    "\n",
    "mean_obs = np.apply_along_axis(np.mean, 0, x)\n",
    "for item, mem_id in zip(mean_obs, ID):\n",
    "    sketch.insert(item, mem_id)\n",
    "\n",
    "mean_2 = []\n",
    "for mem_id in ID:\n",
    "    mean_2 += [sketch.retrieve(mem_id)]\n",
    "    \n",
    "mean_trim_2 = []\n",
    "# mean_sign_2 = []\n",
    "for mem_id in ID:\n",
    "    item_list = np.sort(sketch.retrieve_item_list(mem_id))\n",
    "    mean_trim_2 += [np.mean(item_list[1:(sketch.k-1)])]\n",
    "    # mean_sign_2 += [np.sum(np.sign(item_list))]"
   ]
  },
  {
   "cell_type": "code",
   "execution_count": 13,
   "metadata": {},
   "outputs": [],
   "source": [
    "# bins = np.linspace(-1, 1.5, 50)\n",
    "# plt.hist(mean_2[num_signal:], alpha = 0.5, bins = bins)\n",
    "# plt.hist(mean_2[0:num_signal], alpha = 0.5, bins = bins)\n",
    "# plt.yscale('log')\n",
    "# plt.show()\n",
    "\n",
    "# thres = np.linspace(0.7, 1, 100)\n",
    "# plt.plot(thres, [np.sum(np.abs(mean_2[num_signal:])>a) for a in thres])\n",
    "# plt.title('Tail Probability of Noise Arms')"
   ]
  },
  {
   "cell_type": "code",
   "execution_count": 25,
   "metadata": {},
   "outputs": [
    {
     "name": "stdout",
     "output_type": "stream",
     "text": [
      "Best F1 Score:  0.5512820512820512\n"
     ]
    },
    {
     "data": {
      "image/png": "[encoded data removed]",
      "text/plain": [
       "<Figure size 432x288 with 1 Axes>"
      ]
     },
     "metadata": {
      "needs_background": "light"
     },
     "output_type": "display_data"
    }
   ],
   "source": [
    "F1_score = []\n",
    "precision_list = []\n",
    "recall_list = []\n",
    "    \n",
    "threshold_list = np.arange(0.2, 1.2, 0.01)\n",
    "for thres in threshold_list:\n",
    "    positive_index = (np.abs(mu)>0)*1\n",
    "    predict_positive_index = (np.abs(mean_2)>thres)\n",
    "    fn = np.sum(positive_index*(1-predict_positive_index))\n",
    "    tp = np.sum(predict_positive_index*positive_index)\n",
    "    precision = tp/np.sum(predict_positive_index)\n",
    "    recall = tp/(tp+fn)\n",
    "    \n",
    "    ## Deviation from the true covariance matrix\n",
    "    F1_score += [2*precision*recall/(precision+recall)]\n",
    "    precision_list += [precision]\n",
    "    recall_list += [recall]\n",
    "\n",
    "    \n",
    "print('Best F1 Score: ', np.max(F1_score))\n",
    "plt.plot(threshold_list, F1_score)\n",
    "plt.show()\n",
    "\n",
    "# plt.plot(threshold_list, precision_list)\n",
    "# plt.show()\n",
    "\n",
    "# plt.plot(threshold_list, recall_list)\n",
    "# plt.show()\n",
    "\n",
    "# plt.plot(1 - np.array(precision_list), np.array(recall_list))\n",
    "# plt.xlabel('1 - Precision')\n",
    "# plt.ylabel('Recall')\n",
    "# plt.show()"
   ]
  },
  {
   "cell_type": "markdown",
   "metadata": {},
   "source": [
    "## Threshold based on the full information"
   ]
  },
  {
   "cell_type": "code",
   "execution_count": 11,
   "metadata": {},
   "outputs": [
    {
     "name": "stdout",
     "output_type": "stream",
     "text": [
      "1.0\n"
     ]
    },
    {
     "data": {
      "image/png": "[encoded data removed]",
      "text/plain": [
       "<Figure size 432x288 with 1 Axes>"
      ]
     },
     "metadata": {
      "needs_background": "light"
     },
     "output_type": "display_data"
    }
   ],
   "source": [
    "x_mean = np.apply_along_axis(np.mean,0, x)\n",
    "\n",
    "F1_score_2 = []\n",
    "precision_list_2 = []\n",
    "recall_list_2 = [] \n",
    "\n",
    "threshold_list = np.arange(0, 1, 0.01)\n",
    "\n",
    "for thres in threshold_list:\n",
    "    ## Threshold the small entries of var_obs\n",
    "    mean_thres = copy.copy(x_mean)\n",
    "    mean_thres[np.abs(mean_thres)<=thres] = 0\n",
    "    \n",
    "    positive_index = (np.abs(mu)>0)*1\n",
    "    predict_positive_index = (np.abs(mean_thres)>0)*1\n",
    "    fn = np.sum(positive_index*(1-predict_positive_index))\n",
    "    tp = np.sum(predict_positive_index*positive_index)\n",
    "    precision = tp/np.sum(predict_positive_index)\n",
    "    recall = tp/(tp+fn)\n",
    "    \n",
    "    ## Deviation from the true covariance matrix\n",
    "    F1_score_2 += [2*precision*recall/(precision+recall)]\n",
    "    precision_list_2 += [precision]\n",
    "    recall_list_2 += [recall]\n",
    "\n",
    "max_F1 = np.max(F1_score_2)\n",
    "print(max_F1)\n",
    "plt.plot(threshold_list, F1_score_2)\n",
    "plt.show()\n",
    "\n",
    "# plt.plot(threshold_list, precision_list_2)\n",
    "# plt.show()\n",
    "\n",
    "# plt.plot(threshold_list, recall_list_2)\n",
    "# plt.show()"
   ]
  }
 ],
 "metadata": {
  "kernelspec": {
   "display_name": "Python 3",
   "language": "python",
   "name": "python3"
  },
  "language_info": {
   "codemirror_mode": {
    "name": "ipython",
    "version": 3
   },
   "file_extension": ".py",
   "mimetype": "text/x-python",
   "name": "python",
   "nbconvert_exporter": "python",
   "pygments_lexer": "ipython3",
   "version": "3.7.4"
  }
 },
 "nbformat": 4,
 "nbformat_minor": 2
}
